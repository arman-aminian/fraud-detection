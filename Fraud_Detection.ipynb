{
  "nbformat": 4,
  "nbformat_minor": 0,
  "metadata": {
    "colab": {
      "name": "Fraud Detection",
      "provenance": [],
      "collapsed_sections": [],
      "authorship_tag": "ABX9TyPeaHeJTh3cxRh0JzNRmJRf",
      "include_colab_link": true
    },
    "kernelspec": {
      "display_name": "Python 3",
      "name": "python3"
    }
  },
  "cells": [
    {
      "cell_type": "markdown",
      "metadata": {
        "id": "view-in-github",
        "colab_type": "text"
      },
      "source": [
        "<a href=\"https://colab.research.google.com/github/arman-aminian/fraud-detection/blob/master/Fraud_Detection.ipynb\" target=\"_parent\"><img src=\"https://colab.research.google.com/assets/colab-badge.svg\" alt=\"Open In Colab\"/></a>"
      ]
    },
    {
      "cell_type": "markdown",
      "metadata": {
        "id": "MoQJNwsUKKjk"
      },
      "source": [
        "# **Import Libraries**"
      ]
    },
    {
      "cell_type": "code",
      "metadata": {
        "id": "mcHfh3ieKKI4"
      },
      "source": [
        "import pandas as pd\n",
        "import numpy as np\n",
        "import io\n",
        "import matplotlib.pyplot as plt\n",
        "%matplotlib inline\n",
        "import seaborn as sns\n",
        "from sklearn.model_selection import train_test_split\n",
        "from pandas.plotting import scatter_matrix\n",
        "from sklearn.base import BaseEstimator, TransformerMixin\n",
        "from sklearn.pipeline import Pipeline\n",
        "from sklearn.preprocessing import StandardScaler\n",
        "from sklearn.preprocessing import Normalizer\n",
        "from sklearn.impute import SimpleImputer\n",
        "from sklearn.preprocessing import OneHotEncoder\n",
        "from sklearn.compose import ColumnTransformer\n",
        "from sklearn.model_selection import cross_val_score\n",
        "from sklearn.metrics import accuracy_score\n",
        "from sklearn.metrics import precision_score\n",
        "from sklearn.metrics import recall_score\n",
        "from sklearn.metrics import f1_score\n",
        "from sklearn.metrics import confusion_matrix\n",
        "from sklearn.metrics import precision_recall_curve\n",
        "from sklearn.metrics import roc_auc_score\n",
        "from sklearn.model_selection import GridSearchCV\n",
        "from imblearn.under_sampling import RandomUnderSampler\n",
        "from imblearn.over_sampling import SMOTE\n",
        "from imblearn.pipeline import Pipeline as imPipeline\n",
        "from collections import Counter"
      ],
      "execution_count": null,
      "outputs": []
    },
    {
      "cell_type": "markdown",
      "metadata": {
        "id": "B_Z3PhCgW-4U"
      },
      "source": [
        "# **Load Data**"
      ]
    },
    {
      "cell_type": "code",
      "metadata": {
        "id": "fQAphXF8-cKD"
      },
      "source": [
        "READ_FROM_LOCAL = False"
      ],
      "execution_count": null,
      "outputs": []
    },
    {
      "cell_type": "code",
      "metadata": {
        "id": "UtA3YKYzMTxN"
      },
      "source": [
        "if READ_FROM_LOCAL:\n",
        "  ds = pd.read_csv('./Desktop/dataset.csv').drop(['id'], axis=1)\n",
        "  print('shape =', ds.shape)"
      ],
      "execution_count": null,
      "outputs": []
    },
    {
      "cell_type": "code",
      "metadata": {
        "id": "2ghUcCVYL6th",
        "colab": {
          "resources": {
            "http://localhost:8080/nbextensions/google.colab/files.js": {
              "data": "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",
              "ok": true,
              "headers": [
                [
                  "content-type",
                  "application/javascript"
                ]
              ],
              "status": 200,
              "status_text": ""
            }
          },
          "base_uri": "https://localhost:8080/",
          "height": 89
        },
        "outputId": "26d3114f-ef73-4f66-8d19-15222a5fe6e9"
      },
      "source": [
        "if not READ_FROM_LOCAL:\n",
        "  from google.colab import files\n",
        "  data_to_load = files.upload()\n",
        "  ds = pd.read_csv(io.BytesIO(data_to_load['dataset.csv']), index_col=0)\n",
        "  print('shape =', ds.shape)"
      ],
      "execution_count": null,
      "outputs": [
        {
          "output_type": "display_data",
          "data": {
            "text/html": [
              "\n",
              "     <input type=\"file\" id=\"files-85653a70-346a-4b6a-9382-92abc4223cd0\" name=\"files[]\" multiple disabled\n",
              "        style=\"border:none\" />\n",
              "     <output id=\"result-85653a70-346a-4b6a-9382-92abc4223cd0\">\n",
              "      Upload widget is only available when the cell has been executed in the\n",
              "      current browser session. Please rerun this cell to enable.\n",
              "      </output>\n",
              "      <script src=\"/nbextensions/google.colab/files.js\"></script> "
            ],
            "text/plain": [
              "<IPython.core.display.HTML object>"
            ]
          },
          "metadata": {
            "tags": []
          }
        },
        {
          "output_type": "stream",
          "text": [
            "Saving dataset.csv to dataset.csv\n",
            "shape = (24855, 13)\n"
          ],
          "name": "stdout"
        }
      ]
    },
    {
      "cell_type": "code",
      "metadata": {
        "id": "-dAUqs-v-11X",
        "colab": {
          "base_uri": "https://localhost:8080/",
          "height": 255
        },
        "outputId": "e0938343-ee67-4651-b1fb-3d9331334a14"
      },
      "source": [
        "ds.head()"
      ],
      "execution_count": null,
      "outputs": [
        {
          "output_type": "execute_result",
          "data": {
            "text/html": [
              "<div>\n",
              "<style scoped>\n",
              "    .dataframe tbody tr th:only-of-type {\n",
              "        vertical-align: middle;\n",
              "    }\n",
              "\n",
              "    .dataframe tbody tr th {\n",
              "        vertical-align: top;\n",
              "    }\n",
              "\n",
              "    .dataframe thead th {\n",
              "        text-align: right;\n",
              "    }\n",
              "</style>\n",
              "<table border=\"1\" class=\"dataframe\">\n",
              "  <thead>\n",
              "    <tr style=\"text-align: right;\">\n",
              "      <th></th>\n",
              "      <th>ProId</th>\n",
              "      <th>ProCreationTimestamp</th>\n",
              "      <th>CustId</th>\n",
              "      <th>CustCreationTimestamp</th>\n",
              "      <th>Rate</th>\n",
              "      <th>TaskCreationTimestamp</th>\n",
              "      <th>Price</th>\n",
              "      <th>ServiceId</th>\n",
              "      <th>CategoryId</th>\n",
              "      <th>ZoneId</th>\n",
              "      <th>TaskState</th>\n",
              "      <th>TargetProId</th>\n",
              "      <th>isFraud</th>\n",
              "    </tr>\n",
              "    <tr>\n",
              "      <th>id</th>\n",
              "      <th></th>\n",
              "      <th></th>\n",
              "      <th></th>\n",
              "      <th></th>\n",
              "      <th></th>\n",
              "      <th></th>\n",
              "      <th></th>\n",
              "      <th></th>\n",
              "      <th></th>\n",
              "      <th></th>\n",
              "      <th></th>\n",
              "      <th></th>\n",
              "      <th></th>\n",
              "    </tr>\n",
              "  </thead>\n",
              "  <tbody>\n",
              "    <tr>\n",
              "      <th>VkSa32MyS738HMkfk4tEfk</th>\n",
              "      <td>vqUkxUDuEmB7gHWQvcYrBn</td>\n",
              "      <td>1552751751302</td>\n",
              "      <td>SgcxJApdnttAvEN9865TSZ</td>\n",
              "      <td>1565441404199</td>\n",
              "      <td>5</td>\n",
              "      <td>1565608270089</td>\n",
              "      <td>362000.0</td>\n",
              "      <td>bKv8JeCDhHBCe8SnfDcv66</td>\n",
              "      <td>VzkJEPR5H3mnqctJ8TW3YS</td>\n",
              "      <td>98DpwFpuLYJtF6jajghriE</td>\n",
              "      <td>Finished</td>\n",
              "      <td>vqUkxUDuEmB7gHWQvcYrBn</td>\n",
              "      <td>False</td>\n",
              "    </tr>\n",
              "    <tr>\n",
              "      <th>FDPHLhrcjx3Gww4syg43Po</th>\n",
              "      <td>KaLEhwzZxCQ7GjPmVwBVav</td>\n",
              "      <td>1558262535289</td>\n",
              "      <td>EveEDVPDDDq3Ljh3bg8Exn</td>\n",
              "      <td>1561655121208</td>\n",
              "      <td>5</td>\n",
              "      <td>1563280381472</td>\n",
              "      <td>NaN</td>\n",
              "      <td>aegfi8HeWASAP6a9YkddeL</td>\n",
              "      <td>VzkJEPR5H3mnqctJ8TW3YS</td>\n",
              "      <td>XZCnwH2vCRhHReoVx9X3XV</td>\n",
              "      <td>Finished</td>\n",
              "      <td>YvvjyjpmXxj43RJGBHPq2n</td>\n",
              "      <td>False</td>\n",
              "    </tr>\n",
              "    <tr>\n",
              "      <th>6Z7CCQoHpC8ga8KZbsgUbx</th>\n",
              "      <td>pybDYgTiCUv3Pv3WLgxKCM</td>\n",
              "      <td>1558538960723</td>\n",
              "      <td>mrDLWRmWuxGD7TVPAsD5X6</td>\n",
              "      <td>1545554406049</td>\n",
              "      <td>1</td>\n",
              "      <td>1566297337468</td>\n",
              "      <td>NaN</td>\n",
              "      <td>uDHVz7XXXRCkGKWRUe2jKp</td>\n",
              "      <td>VzkJEPR5H3mnqctJ8TW3YS</td>\n",
              "      <td>XZCnwH2vCRhHReoVx9X3XV</td>\n",
              "      <td>Finished</td>\n",
              "      <td>NaN</td>\n",
              "      <td>False</td>\n",
              "    </tr>\n",
              "    <tr>\n",
              "      <th>n5DKFF8SJYoP57ypvpCEg5</th>\n",
              "      <td>zqPiDV33KwrMBZoyeQXMJW</td>\n",
              "      <td>1507727811649</td>\n",
              "      <td>aK3MnLeQywfLYMJJNyu7i8</td>\n",
              "      <td>1512288789660</td>\n",
              "      <td>4</td>\n",
              "      <td>1522825078700</td>\n",
              "      <td>NaN</td>\n",
              "      <td>Jy7nZvUqvwDUhcAG59wPcg</td>\n",
              "      <td>VzkJEPR5H3mnqctJ8TW3YS</td>\n",
              "      <td>XZCnwH2vCRhHReoVx9X3XV</td>\n",
              "      <td>Finished</td>\n",
              "      <td>NaN</td>\n",
              "      <td>False</td>\n",
              "    </tr>\n",
              "    <tr>\n",
              "      <th>oCwEhmYhhzHkuZyqQCusFU</th>\n",
              "      <td>CR8z3ThPyzBKXFqqzemQAS</td>\n",
              "      <td>1560860808052</td>\n",
              "      <td>vHjzucgXFu9eA9YhuEeuk4</td>\n",
              "      <td>1561328838459</td>\n",
              "      <td>1</td>\n",
              "      <td>1564542737897</td>\n",
              "      <td>150000.0</td>\n",
              "      <td>f8o6yBmfeJiUTAmvpRCFAZ</td>\n",
              "      <td>VzkJEPR5H3mnqctJ8TW3YS</td>\n",
              "      <td>XZCnwH2vCRhHReoVx9X3XV</td>\n",
              "      <td>Finished</td>\n",
              "      <td>NaN</td>\n",
              "      <td>False</td>\n",
              "    </tr>\n",
              "  </tbody>\n",
              "</table>\n",
              "</div>"
            ],
            "text/plain": [
              "                                         ProId  ...  isFraud\n",
              "id                                              ...         \n",
              "VkSa32MyS738HMkfk4tEfk  vqUkxUDuEmB7gHWQvcYrBn  ...    False\n",
              "FDPHLhrcjx3Gww4syg43Po  KaLEhwzZxCQ7GjPmVwBVav  ...    False\n",
              "6Z7CCQoHpC8ga8KZbsgUbx  pybDYgTiCUv3Pv3WLgxKCM  ...    False\n",
              "n5DKFF8SJYoP57ypvpCEg5  zqPiDV33KwrMBZoyeQXMJW  ...    False\n",
              "oCwEhmYhhzHkuZyqQCusFU  CR8z3ThPyzBKXFqqzemQAS  ...    False\n",
              "\n",
              "[5 rows x 13 columns]"
            ]
          },
          "metadata": {
            "tags": []
          },
          "execution_count": 15
        }
      ]
    },
    {
      "cell_type": "markdown",
      "metadata": {
        "id": "X1OVuo0gtuho"
      },
      "source": [
        "# **Train/Test Split**"
      ]
    },
    {
      "cell_type": "code",
      "metadata": {
        "colab": {
          "base_uri": "https://localhost:8080/"
        },
        "id": "X1OQn7xMtUuD",
        "outputId": "e112ec54-1939-438b-8f23-2f1bdbc3dc51"
      },
      "source": [
        "ds['isFraud'].replace({True: 1, False: 0}, inplace=True)\n",
        "X_train, X_test, y_train, y_test = train_test_split(ds.drop(['isFraud'], axis=1), ds.isFraud, test_size=0.15, random_state=41, shuffle=True)\n",
        "print('X_train :', X_train.shape)\n",
        "print('Y_train :', y_train.shape)\n",
        "print('X_test :', X_test.shape)\n",
        "print('Y_test :', y_test.shape)"
      ],
      "execution_count": null,
      "outputs": [
        {
          "output_type": "stream",
          "text": [
            "X_train : (21126, 12)\n",
            "Y_train : (21126,)\n",
            "X_test : (3729, 12)\n",
            "Y_test : (3729,)\n"
          ],
          "name": "stdout"
        }
      ]
    },
    {
      "cell_type": "markdown",
      "metadata": {
        "id": "iSsbY4mTzybs"
      },
      "source": [
        "# **Visualize The Data**"
      ]
    },
    {
      "cell_type": "code",
      "metadata": {
        "colab": {
          "base_uri": "https://localhost:8080/",
          "height": 255
        },
        "id": "rK-lbxzm0aDa",
        "outputId": "991cdd1e-24a0-4475-fc58-5c12aa8d8728"
      },
      "source": [
        "X_train.head()"
      ],
      "execution_count": null,
      "outputs": [
        {
          "output_type": "execute_result",
          "data": {
            "text/html": [
              "<div>\n",
              "<style scoped>\n",
              "    .dataframe tbody tr th:only-of-type {\n",
              "        vertical-align: middle;\n",
              "    }\n",
              "\n",
              "    .dataframe tbody tr th {\n",
              "        vertical-align: top;\n",
              "    }\n",
              "\n",
              "    .dataframe thead th {\n",
              "        text-align: right;\n",
              "    }\n",
              "</style>\n",
              "<table border=\"1\" class=\"dataframe\">\n",
              "  <thead>\n",
              "    <tr style=\"text-align: right;\">\n",
              "      <th></th>\n",
              "      <th>ProId</th>\n",
              "      <th>ProCreationTimestamp</th>\n",
              "      <th>CustId</th>\n",
              "      <th>CustCreationTimestamp</th>\n",
              "      <th>Rate</th>\n",
              "      <th>TaskCreationTimestamp</th>\n",
              "      <th>Price</th>\n",
              "      <th>ServiceId</th>\n",
              "      <th>CategoryId</th>\n",
              "      <th>ZoneId</th>\n",
              "      <th>TaskState</th>\n",
              "      <th>TargetProId</th>\n",
              "    </tr>\n",
              "    <tr>\n",
              "      <th>id</th>\n",
              "      <th></th>\n",
              "      <th></th>\n",
              "      <th></th>\n",
              "      <th></th>\n",
              "      <th></th>\n",
              "      <th></th>\n",
              "      <th></th>\n",
              "      <th></th>\n",
              "      <th></th>\n",
              "      <th></th>\n",
              "      <th></th>\n",
              "      <th></th>\n",
              "    </tr>\n",
              "  </thead>\n",
              "  <tbody>\n",
              "    <tr>\n",
              "      <th>T3x8WdSzqkfsWXwAPjATFN</th>\n",
              "      <td>7arveiUGkGGNXEWoGiQmj6</td>\n",
              "      <td>1547291868558</td>\n",
              "      <td>yU6cpGEwWnj59ceJWi8Vvp</td>\n",
              "      <td>1527398216203</td>\n",
              "      <td>5</td>\n",
              "      <td>1568803854775</td>\n",
              "      <td>1000000.0</td>\n",
              "      <td>97TmH72MfDNXTJ9J4kW4ju</td>\n",
              "      <td>VzkJEPR5H3mnqctJ8TW3YS</td>\n",
              "      <td>XZCnwH2vCRhHReoVx9X3XV</td>\n",
              "      <td>Finished</td>\n",
              "      <td>NaN</td>\n",
              "    </tr>\n",
              "    <tr>\n",
              "      <th>UYPM3cEriAeZndYomaMRho</th>\n",
              "      <td>Q7tdJ4Ro2wKeDYhmzLmAze</td>\n",
              "      <td>1571235417144</td>\n",
              "      <td>NUjnGNrfoeAnbx6KV7XP5U</td>\n",
              "      <td>1558685882605</td>\n",
              "      <td>1</td>\n",
              "      <td>1573741954006</td>\n",
              "      <td>NaN</td>\n",
              "      <td>J7RMmqHJGmRwJeCJ5yaYLo</td>\n",
              "      <td>VzkJEPR5H3mnqctJ8TW3YS</td>\n",
              "      <td>4vmCuHsVCshaWa5e5WxrNK</td>\n",
              "      <td>Finished</td>\n",
              "      <td>NaN</td>\n",
              "    </tr>\n",
              "    <tr>\n",
              "      <th>HEaZdQKNHb3rvh4f5CFRhz</th>\n",
              "      <td>tKdNrzEXauK8qhiVx7E3Dv</td>\n",
              "      <td>1539371318479</td>\n",
              "      <td>hGddxwqrfvA9TRg8ASsdXh</td>\n",
              "      <td>1546324594504</td>\n",
              "      <td>5</td>\n",
              "      <td>1547886903592</td>\n",
              "      <td>130000.0</td>\n",
              "      <td>mMTCfv4EXt6D74XiKxf33G</td>\n",
              "      <td>VzkJEPR5H3mnqctJ8TW3YS</td>\n",
              "      <td>XZCnwH2vCRhHReoVx9X3XV</td>\n",
              "      <td>Finished</td>\n",
              "      <td>NaN</td>\n",
              "    </tr>\n",
              "    <tr>\n",
              "      <th>Xwkm5Rsw7vTRVc9LzKkwQN</th>\n",
              "      <td>McUamUKCcucEFRcX8QDRz7</td>\n",
              "      <td>1530268506173</td>\n",
              "      <td>fJwqKmm97nXnVhk5gPkEBf</td>\n",
              "      <td>1535112913130</td>\n",
              "      <td>4</td>\n",
              "      <td>1535204611526</td>\n",
              "      <td>40000.0</td>\n",
              "      <td>aAkNmQxRakik386nZvYv9d</td>\n",
              "      <td>VzkJEPR5H3mnqctJ8TW3YS</td>\n",
              "      <td>XZCnwH2vCRhHReoVx9X3XV</td>\n",
              "      <td>Finished</td>\n",
              "      <td>NaN</td>\n",
              "    </tr>\n",
              "    <tr>\n",
              "      <th>pZRcJUPxqFog5ZCer6p5vW</th>\n",
              "      <td>Uy3Qe6pynDsiRjjX3C8rKQ</td>\n",
              "      <td>1555750317544</td>\n",
              "      <td>XwMQVGmmGZvyJ447xVXq4m</td>\n",
              "      <td>1556513572836</td>\n",
              "      <td>1</td>\n",
              "      <td>1557636780587</td>\n",
              "      <td>NaN</td>\n",
              "      <td>WHtgyKHcBHBmvyKkjzfAqU</td>\n",
              "      <td>VzkJEPR5H3mnqctJ8TW3YS</td>\n",
              "      <td>XZCnwH2vCRhHReoVx9X3XV</td>\n",
              "      <td>Finished</td>\n",
              "      <td>NaN</td>\n",
              "    </tr>\n",
              "  </tbody>\n",
              "</table>\n",
              "</div>"
            ],
            "text/plain": [
              "                                         ProId  ...  TargetProId\n",
              "id                                              ...             \n",
              "T3x8WdSzqkfsWXwAPjATFN  7arveiUGkGGNXEWoGiQmj6  ...          NaN\n",
              "UYPM3cEriAeZndYomaMRho  Q7tdJ4Ro2wKeDYhmzLmAze  ...          NaN\n",
              "HEaZdQKNHb3rvh4f5CFRhz  tKdNrzEXauK8qhiVx7E3Dv  ...          NaN\n",
              "Xwkm5Rsw7vTRVc9LzKkwQN  McUamUKCcucEFRcX8QDRz7  ...          NaN\n",
              "pZRcJUPxqFog5ZCer6p5vW  Uy3Qe6pynDsiRjjX3C8rKQ  ...          NaN\n",
              "\n",
              "[5 rows x 12 columns]"
            ]
          },
          "metadata": {
            "tags": []
          },
          "execution_count": 17
        }
      ]
    },
    {
      "cell_type": "code",
      "metadata": {
        "colab": {
          "base_uri": "https://localhost:8080/"
        },
        "id": "8SfSQTuq0jEa",
        "outputId": "2362364a-e927-4002-f8b2-fa074886ca3b"
      },
      "source": [
        "X_train.info()"
      ],
      "execution_count": null,
      "outputs": [
        {
          "output_type": "stream",
          "text": [
            "<class 'pandas.core.frame.DataFrame'>\n",
            "Index: 21126 entries, T3x8WdSzqkfsWXwAPjATFN to h6LeyDiUJw6qQ5t7PWgJkV\n",
            "Data columns (total 12 columns):\n",
            " #   Column                 Non-Null Count  Dtype  \n",
            "---  ------                 --------------  -----  \n",
            " 0   ProId                  21126 non-null  object \n",
            " 1   ProCreationTimestamp   21126 non-null  int64  \n",
            " 2   CustId                 21126 non-null  object \n",
            " 3   CustCreationTimestamp  21126 non-null  int64  \n",
            " 4   Rate                   21126 non-null  int64  \n",
            " 5   TaskCreationTimestamp  21126 non-null  int64  \n",
            " 6   Price                  16058 non-null  float64\n",
            " 7   ServiceId              21126 non-null  object \n",
            " 8   CategoryId             21126 non-null  object \n",
            " 9   ZoneId                 21126 non-null  object \n",
            " 10  TaskState              21126 non-null  object \n",
            " 11  TargetProId            2152 non-null   object \n",
            "dtypes: float64(1), int64(4), object(7)\n",
            "memory usage: 2.1+ MB\n"
          ],
          "name": "stdout"
        }
      ]
    },
    {
      "cell_type": "markdown",
      "metadata": {
        "id": "RxN2BTqs4jPS"
      },
      "source": [
        "<font color='red'>**From the above cell we understand that the \"Price\" and \"TargetProId\" have missing values which will be handled later on.**</font>"
      ]
    },
    {
      "cell_type": "code",
      "metadata": {
        "colab": {
          "base_uri": "https://localhost:8080/"
        },
        "id": "mT1f45jv0myG",
        "outputId": "f9672f7e-2c46-4494-f073-e8887832e4d8"
      },
      "source": [
        "X_train.corrwith(y_train).sort_values(ascending=False)"
      ],
      "execution_count": null,
      "outputs": [
        {
          "output_type": "execute_result",
          "data": {
            "text/plain": [
              "ProCreationTimestamp     0.097701\n",
              "Price                    0.061427\n",
              "CustCreationTimestamp    0.057078\n",
              "Rate                     0.045809\n",
              "TaskCreationTimestamp    0.045519\n",
              "dtype: float64"
            ]
          },
          "metadata": {
            "tags": []
          },
          "execution_count": 19
        }
      ]
    },
    {
      "cell_type": "code",
      "metadata": {
        "colab": {
          "base_uri": "https://localhost:8080/",
          "height": 350
        },
        "id": "xHXcpnKt3AVu",
        "outputId": "9394a25c-44ec-4807-ea0f-556d53e9c183"
      },
      "source": [
        "print(\"fraud percentage =\", y_train[y_train==1].sum() / len(y_train))\n",
        "sns.countplot(y_train);"
      ],
      "execution_count": null,
      "outputs": [
        {
          "output_type": "stream",
          "text": [
            "fraud percentage = 0.061488213575688726\n"
          ],
          "name": "stdout"
        },
        {
          "output_type": "stream",
          "text": [
            "/usr/local/lib/python3.7/dist-packages/seaborn/_decorators.py:43: FutureWarning: Pass the following variable as a keyword arg: x. From version 0.12, the only valid positional argument will be `data`, and passing other arguments without an explicit keyword will result in an error or misinterpretation.\n",
            "  FutureWarning\n"
          ],
          "name": "stderr"
        },
        {
          "output_type": "display_data",
          "data": {
            "image/png": "[encoded data removed]",
            "text/plain": [
              "<Figure size 432x288 with 1 Axes>"
            ]
          },
          "metadata": {
            "tags": [],
            "needs_background": "light"
          }
        }
      ]
    },
    {
      "cell_type": "markdown",
      "metadata": {
        "id": "c2J1ocbF7PKZ"
      },
      "source": [
        "<font color='red'>**As we can see, the data suffers from a huge label imbalance.**<font>"
      ]
    },
    {
      "cell_type": "markdown",
      "metadata": {
        "id": "nd6XvN7AqVm-"
      },
      "source": [
        "# **Feature Engineering**"
      ]
    },
    {
      "cell_type": "markdown",
      "metadata": {
        "id": "iXmB8VcGe7LF"
      },
      "source": [
        "## Targeted Pro Feature"
      ]
    },
    {
      "cell_type": "markdown",
      "metadata": {
        "id": "0uD7DpX789GJ"
      },
      "source": [
        "<font color='red'>**This feature indicates when a customer suggested some specific worker to do the job and that suggested worker will do the job. (ProId == TargetProId)**</font>"
      ]
    },
    {
      "cell_type": "code",
      "metadata": {
        "colab": {
          "base_uri": "https://localhost:8080/",
          "height": 282
        },
        "id": "L4l7Bg6E_CIE",
        "outputId": "3a2fc231-e214-4af7-e18a-7cff2a487f19"
      },
      "source": [
        "targeted_pro = y_train[X_train.TargetProId == X_train.ProId].replace({True: 1, False: 0})\n",
        "compare_list = [(y_train[y_train==1].size/y_train.size*100)\n",
        "                , (targeted_pro[targeted_pro==1].size/targeted_pro.size*100)]\n",
        "plt.bar(['total fraud percentage', 'targeted pro fraud percentage'], compare_list)\n",
        "plt.ylabel('percentage')"
      ],
      "execution_count": null,
      "outputs": [
        {
          "output_type": "execute_result",
          "data": {
            "text/plain": [
              "Text(0, 0.5, 'percentage')"
            ]
          },
          "metadata": {
            "tags": []
          },
          "execution_count": 21
        },
        {
          "output_type": "display_data",
          "data": {
            "image/png": "[encoded data removed]",
            "text/plain": [
              "<Figure size 432x288 with 1 Axes>"
            ]
          },
          "metadata": {
            "tags": [],
            "needs_background": "light"
          }
        }
      ]
    },
    {
      "cell_type": "markdown",
      "metadata": {
        "id": "II7uyDmH9OK1"
      },
      "source": [
        "<font color='red'>**As shown in the plot, fraud percentage in those scenarios are higher than total.**</font>"
      ]
    },
    {
      "cell_type": "code",
      "metadata": {
        "id": "3OmYUFOSWm8u"
      },
      "source": [
        "TargetProId_ix, ProId_ix, = 11, 0\n",
        "\n",
        "class TargetedProTransformer(BaseEstimator, TransformerMixin):\n",
        "  def fit(self, X, y=None):\n",
        "    return self\n",
        "  def transform(self, X):\n",
        "    TargetedPro = (X[:, TargetProId_ix] == X[:, ProId_ix]).astype(int)\n",
        "    return np.c_[X, TargetedPro]"
      ],
      "execution_count": null,
      "outputs": []
    },
    {
      "cell_type": "code",
      "metadata": {
        "id": "7r9eMD2InXjQ"
      },
      "source": [
        "fraud = TargetedProTransformer()\n",
        "f = fraud.fit_transform(X_train.values, y_train)"
      ],
      "execution_count": null,
      "outputs": []
    },
    {
      "cell_type": "markdown",
      "metadata": {
        "id": "KX46CTqcRDeb"
      },
      "source": [
        "## TargetProId Missing Values"
      ]
    },
    {
      "cell_type": "code",
      "metadata": {
        "colab": {
          "base_uri": "https://localhost:8080/"
        },
        "id": "Gc3PQxb1hUMr",
        "outputId": "8cc55e23-b633-4d6d-858f-a7d570e32ef1"
      },
      "source": [
        "X_train.isna().sum() / X_train.size"
      ],
      "execution_count": null,
      "outputs": [
        {
          "output_type": "execute_result",
          "data": {
            "text/plain": [
              "ProId                    0.000000\n",
              "ProCreationTimestamp     0.000000\n",
              "CustId                   0.000000\n",
              "CustCreationTimestamp    0.000000\n",
              "Rate                     0.000000\n",
              "TaskCreationTimestamp    0.000000\n",
              "Price                    0.019991\n",
              "ServiceId                0.000000\n",
              "CategoryId               0.000000\n",
              "ZoneId                   0.000000\n",
              "TaskState                0.000000\n",
              "TargetProId              0.074845\n",
              "dtype: float64"
            ]
          },
          "metadata": {
            "tags": []
          },
          "execution_count": 24
        }
      ]
    },
    {
      "cell_type": "code",
      "metadata": {
        "colab": {
          "base_uri": "https://localhost:8080/",
          "height": 392
        },
        "id": "Bq_m_VQYNzMm",
        "outputId": "baa22490-916e-4431-b520-e76728112af6"
      },
      "source": [
        "plt.ylabel('percentage')\n",
        "plt.xticks(rotation=90)\n",
        "plt.bar(X_train.columns, X_train.isna().sum())"
      ],
      "execution_count": null,
      "outputs": [
        {
          "output_type": "execute_result",
          "data": {
            "text/plain": [
              "<BarContainer object of 12 artists>"
            ]
          },
          "metadata": {
            "tags": []
          },
          "execution_count": 25
        },
        {
          "output_type": "display_data",
          "data": {
            "image/png": "[encoded data removed]",
            "text/plain": [
              "<Figure size 432x288 with 1 Axes>"
            ]
          },
          "metadata": {
            "tags": [],
            "needs_background": "light"
          }
        }
      ]
    },
    {
      "cell_type": "markdown",
      "metadata": {
        "id": "mIINDu5t9mKp"
      },
      "source": [
        "<font color='red'>**Due to the high number of missing values, this feature will be dropped.**<font>"
      ]
    },
    {
      "cell_type": "markdown",
      "metadata": {
        "id": "7e1XZ_J7qb7E"
      },
      "source": [
        "## Price Outliers"
      ]
    },
    {
      "cell_type": "code",
      "metadata": {
        "colab": {
          "base_uri": "https://localhost:8080/",
          "height": 296
        },
        "id": "CnOsdlwfhQ3a",
        "outputId": "f4f4e561-3435-4678-dbc5-852026c50706"
      },
      "source": [
        "plt.figure(figsize=(12,4))\n",
        "sns.boxplot(x=X_train.Price)"
      ],
      "execution_count": null,
      "outputs": [
        {
          "output_type": "execute_result",
          "data": {
            "text/plain": [
              "<matplotlib.axes._subplots.AxesSubplot at 0x7f317d09e6d0>"
            ]
          },
          "metadata": {
            "tags": []
          },
          "execution_count": 26
        },
        {
          "output_type": "display_data",
          "data": {
            "image/png": "[encoded data removed]",
            "text/plain": [
              "<Figure size 864x288 with 1 Axes>"
            ]
          },
          "metadata": {
            "tags": [],
            "needs_background": "light"
          }
        }
      ]
    },
    {
      "cell_type": "code",
      "metadata": {
        "id": "KIJoFyuao9Cs"
      },
      "source": [
        "THRESHOLD = 60000000\n",
        "rows_with_outlier = y_train[X_train.Price > THRESHOLD]"
      ],
      "execution_count": null,
      "outputs": []
    },
    {
      "cell_type": "code",
      "metadata": {
        "id": "wG7JHkPBQqE7",
        "colab": {
          "base_uri": "https://localhost:8080/",
          "height": 282
        },
        "outputId": "51378b6b-1262-4e32-c64a-f2c66379b6ac"
      },
      "source": [
        "compare_list = [(y_train[y_train==1].size/y_train.size*100)\n",
        "                , (rows_with_outlier[rows_with_outlier==True].size/rows_with_outlier.size*100)]\n",
        "plt.bar(['total fraud percentage', 'outliers fraud percentage'], compare_list)\n",
        "plt.ylabel('percentage')"
      ],
      "execution_count": null,
      "outputs": [
        {
          "output_type": "execute_result",
          "data": {
            "text/plain": [
              "Text(0, 0.5, 'percentage')"
            ]
          },
          "metadata": {
            "tags": []
          },
          "execution_count": 28
        },
        {
          "output_type": "display_data",
          "data": {
            "image/png": "[encoded data removed]",
            "text/plain": [
              "<Figure size 432x288 with 1 Axes>"
            ]
          },
          "metadata": {
            "tags": [],
            "needs_background": "light"
          }
        }
      ]
    },
    {
      "cell_type": "markdown",
      "metadata": {
        "id": "GyYHoKC--cs9"
      },
      "source": [
        "<font color='red'>**Here we can see that the fraud percentage in the outliers are high therefore I went with keeping the outliers to achieve a better model.**<font>"
      ]
    },
    {
      "cell_type": "markdown",
      "metadata": {
        "id": "1dP2AY7zr9Yx"
      },
      "source": [
        "## Fraudulent Feature (based on time series)"
      ]
    },
    {
      "cell_type": "markdown",
      "metadata": {
        "id": "YETLEu0FLiiE"
      },
      "source": [
        "<font color='red'>**The following feature is the most complicated one. The basic idea is that any worker with a fraud percentage more than 6% (based on the dataset) is a suspect to committing a fraud. But using this explanation by itself would be wrong since we are considering the time-series in our dataset. So we need to consider the timestamps of the created tasks. In order to do that, for each sample from the dataset, we take all the samples whose TaskCreationTimestamp is before the current row and then we calculate the average and decide based on that.**<font>"
      ]
    },
    {
      "cell_type": "code",
      "metadata": {
        "id": "OokFCwJ4vREd"
      },
      "source": [
        "ProId_ix, ProCreationTimestamp_ix, TaskCreationTimestamp_ix = 0, 1, 5\n",
        "\n",
        "class FraudulentTransform(BaseEstimator, TransformerMixin):\n",
        "  def __init__(self):\n",
        "    self.pros = []\n",
        "\n",
        "  def fit(self, X, y=None):\n",
        "    self.xt = X\n",
        "    self.yt = y\n",
        "    return self\n",
        "\n",
        "  def transform(self, X):\n",
        "    Fraudulent = []\n",
        "    i = 0\n",
        "    \n",
        "    for r in X:\n",
        "      tempX = self.xt[r[TaskCreationTimestamp_ix] > self.xt[:, TaskCreationTimestamp_ix]]\n",
        "      tempY = self.yt[r[TaskCreationTimestamp_ix] > self.xt[:, TaskCreationTimestamp_ix]]\n",
        "      if ((tempY.size == 0) | (tempY[tempX[:, ProId_ix]==r[ProId_ix]].size == 0)) :\n",
        "        i = i+1\n",
        "        Fraudulent.append(False)\n",
        "      else :\n",
        "        totalAvgFraud = tempY[tempY==1].size/tempY.size\n",
        "        rAvgFraud = tempY[(tempX[:, ProId_ix]==r[ProId_ix]) & (tempY==1)].size/tempY[tempX[:, ProId_ix]==r[ProId_ix]].size\n",
        "        Fraudulent.append(rAvgFraud > totalAvgFraud)\n",
        "    Fraudulent = np.array(Fraudulent).astype(int)\n",
        "    return np.concatenate((X, Fraudulent.reshape(len(Fraudulent),1)), axis=1)"
      ],
      "execution_count": null,
      "outputs": []
    },
    {
      "cell_type": "code",
      "metadata": {
        "id": "g2t718WGtRpX"
      },
      "source": [
        "fraud = FraudulentTransform()\n",
        "f = fraud.fit_transform(X_train.values, y_train)"
      ],
      "execution_count": null,
      "outputs": []
    },
    {
      "cell_type": "code",
      "metadata": {
        "id": "GSshJ9ZW3jAE",
        "colab": {
          "base_uri": "https://localhost:8080/",
          "height": 282
        },
        "outputId": "95d5e115-96c5-4ff1-c51b-5aa1b5b44d47"
      },
      "source": [
        "compare_list = [(y_train[y_train==1].size/y_train.size*100)\n",
        "                , (len(f[(f[:, 12]==1) & (y_train==1)]) / len(f[(f[:, 12]==1)])*100)]\n",
        "plt.bar(['total fraud percentage', 'targeted pro fraud percentage'], compare_list)\n",
        "plt.ylabel('percentage')"
      ],
      "execution_count": null,
      "outputs": [
        {
          "output_type": "execute_result",
          "data": {
            "text/plain": [
              "Text(0, 0.5, 'percentage')"
            ]
          },
          "metadata": {
            "tags": []
          },
          "execution_count": 31
        },
        {
          "output_type": "display_data",
          "data": {
            "image/png": "[encoded data removed]",
            "text/plain": [
              "<Figure size 432x288 with 1 Axes>"
            ]
          },
          "metadata": {
            "tags": [],
            "needs_background": "light"
          }
        }
      ]
    },
    {
      "cell_type": "markdown",
      "metadata": {
        "id": "g6ZSnrsKpSws"
      },
      "source": [
        "## (Task Timestamp - Pro Timestamp) Feature"
      ]
    },
    {
      "cell_type": "code",
      "metadata": {
        "colab": {
          "base_uri": "https://localhost:8080/"
        },
        "id": "VKu-Ivtyon0n",
        "outputId": "5388567b-8f78-44d2-d122-3a9a5b4edbb2"
      },
      "source": [
        "X_train.corrwith(y_train)"
      ],
      "execution_count": null,
      "outputs": [
        {
          "output_type": "execute_result",
          "data": {
            "text/plain": [
              "ProCreationTimestamp     0.097701\n",
              "CustCreationTimestamp    0.057078\n",
              "Rate                     0.045809\n",
              "TaskCreationTimestamp    0.045519\n",
              "Price                    0.061427\n",
              "dtype: float64"
            ]
          },
          "metadata": {
            "tags": []
          },
          "execution_count": 32
        }
      ]
    },
    {
      "cell_type": "code",
      "metadata": {
        "colab": {
          "base_uri": "https://localhost:8080/"
        },
        "id": "wuqdF7_mB2Fh",
        "outputId": "04e08623-79cc-4baa-c4b4-a671cb7fe368"
      },
      "source": [
        "print(\"(Task Timestamp - Cust Timestamp) correlation =\",pd.DataFrame(y_train).corrwith(X_train.TaskCreationTimestamp - X_train.CustCreationTimestamp))\n",
        "print()\n",
        "print(\"(Task Timestamp - Pro Timestamp) correlation =\",pd.DataFrame(y_train).corrwith(X_train.TaskCreationTimestamp - X_train.ProCreationTimestamp))"
      ],
      "execution_count": null,
      "outputs": [
        {
          "output_type": "stream",
          "text": [
            "(Task Timestamp - Cust Timestamp) correlation = isFraud   -0.025008\n",
            "dtype: float64\n",
            "\n",
            "(Task Timestamp - Pro Timestamp) correlation = isFraud   -0.072705\n",
            "dtype: float64\n"
          ],
          "name": "stdout"
        }
      ]
    },
    {
      "cell_type": "markdown",
      "metadata": {
        "id": "oXX28TMXCUMD"
      },
      "source": [
        "<font color='red'>**This feature shows the relation between worker creation in the website and the task creation. As seen above, the correlation is a bit higher than the other features so we could conclude that this might be a helpful feature. In short, this feature tries to tell us that the longer a worker has its account, the lower is the fraud.</br>Note that this fact is not the same for customer accounts.**<font>"
      ]
    },
    {
      "cell_type": "code",
      "metadata": {
        "id": "a2MMirqHq2MH"
      },
      "source": [
        "ProCreationTimestamp_ix, TaskCreationTimestamp_ix, = 1, 5\n",
        "\n",
        "class TimeStampTransformer(BaseEstimator, TransformerMixin):\n",
        "  def fit(self, X, y=None):\n",
        "    return self\n",
        "  def transform(self, X):\n",
        "    TargetedPro = X[:, ProCreationTimestamp_ix] - X[:, TaskCreationTimestamp_ix]\n",
        "    return np.c_[X, TargetedPro]"
      ],
      "execution_count": null,
      "outputs": []
    },
    {
      "cell_type": "markdown",
      "metadata": {
        "id": "Qk6K7TClmRWV"
      },
      "source": [
        "## Timestamps"
      ]
    },
    {
      "cell_type": "code",
      "metadata": {
        "colab": {
          "base_uri": "https://localhost:8080/"
        },
        "id": "B8vVXLnZmacV",
        "outputId": "c44174c8-faea-49f7-8cc0-13907f93ae95"
      },
      "source": [
        "X_train[['ProCreationTimestamp', 'CustCreationTimestamp', 'TaskCreationTimestamp']].corrwith(y_train)"
      ],
      "execution_count": null,
      "outputs": [
        {
          "output_type": "execute_result",
          "data": {
            "text/plain": [
              "ProCreationTimestamp     0.097701\n",
              "CustCreationTimestamp    0.057078\n",
              "TaskCreationTimestamp    0.045519\n",
              "dtype: float64"
            ]
          },
          "metadata": {
            "tags": []
          },
          "execution_count": 35
        }
      ]
    },
    {
      "cell_type": "markdown",
      "metadata": {
        "id": "KklDKUTZDa66"
      },
      "source": [
        "<font color='red'>**Due to the low correlation, customer and task creation time will be dropped.**<font>"
      ]
    },
    {
      "cell_type": "markdown",
      "metadata": {
        "id": "2XcS4JHEr3oV"
      },
      "source": [
        "## IDs"
      ]
    },
    {
      "cell_type": "code",
      "metadata": {
        "colab": {
          "base_uri": "https://localhost:8080/"
        },
        "id": "Z52AKcC5mdou",
        "outputId": "cd3e338a-ea88-485b-d57a-edd534a7c67b"
      },
      "source": [
        "print(\"number of categorieis of ProId =\", len(X_train.ProId.value_counts()))\n",
        "print(\"number of categorieis of CustId =\", len(X_train.CustId.value_counts()))\n",
        "print(\"number of categorieis of ServiceId =\", len(X_train.ServiceId.value_counts()))\n",
        "print(\"number of categorieis of CategoryId =\", len(X_train.CategoryId.value_counts()))\n",
        "print(\"number of categorieis of ZoneId =\", len(X_train.ZoneId.value_counts()))"
      ],
      "execution_count": null,
      "outputs": [
        {
          "output_type": "stream",
          "text": [
            "number of categorieis of ProId = 3860\n",
            "number of categorieis of CustId = 16876\n",
            "number of categorieis of ServiceId = 211\n",
            "number of categorieis of CategoryId = 8\n",
            "number of categorieis of ZoneId = 43\n"
          ],
          "name": "stdout"
        }
      ]
    },
    {
      "cell_type": "markdown",
      "metadata": {
        "id": "-81iS60cEcbi"
      },
      "source": [
        "<font color='red'>**We don't need the IDs so they will be dropped too but the CategoryId is kept because of both its low number of unique values and because I thought it would be a good idea to keep this feature.</br>Since there is no numerical relation between the categories, this feature will be one-hotted.**</font>"
      ]
    },
    {
      "cell_type": "markdown",
      "metadata": {
        "id": "mn0qthRpy_cJ"
      },
      "source": [
        "## Task State"
      ]
    },
    {
      "cell_type": "code",
      "metadata": {
        "colab": {
          "base_uri": "https://localhost:8080/"
        },
        "id": "LcLJqgGY0qS2",
        "outputId": "6391cf7b-17c7-41f5-c7c4-a425146fa59e"
      },
      "source": [
        "X_train.TaskState.value_counts()"
      ],
      "execution_count": null,
      "outputs": [
        {
          "output_type": "execute_result",
          "data": {
            "text/plain": [
              "Finished    21124\n",
              "Canceled        1\n",
              "Waiting         1\n",
              "Name: TaskState, dtype: int64"
            ]
          },
          "metadata": {
            "tags": []
          },
          "execution_count": 37
        }
      ]
    },
    {
      "cell_type": "markdown",
      "metadata": {
        "id": "p8AkZA1VFNtp"
      },
      "source": [
        "<font color='red'>**This feature actually does not help us at all since almost all the values belong to one label.**<font>"
      ]
    },
    {
      "cell_type": "markdown",
      "metadata": {
        "id": "UARm4Z4e8a50"
      },
      "source": [
        "## Price Missing Values"
      ]
    },
    {
      "cell_type": "code",
      "metadata": {
        "colab": {
          "base_uri": "https://localhost:8080/"
        },
        "id": "37sDO4GM8akd",
        "outputId": "440a28e2-e726-46d9-c6e7-1e6d9f42737c"
      },
      "source": [
        "X_train.isna().sum() / X_train.size"
      ],
      "execution_count": null,
      "outputs": [
        {
          "output_type": "execute_result",
          "data": {
            "text/plain": [
              "ProId                    0.000000\n",
              "ProCreationTimestamp     0.000000\n",
              "CustId                   0.000000\n",
              "CustCreationTimestamp    0.000000\n",
              "Rate                     0.000000\n",
              "TaskCreationTimestamp    0.000000\n",
              "Price                    0.019991\n",
              "ServiceId                0.000000\n",
              "CategoryId               0.000000\n",
              "ZoneId                   0.000000\n",
              "TaskState                0.000000\n",
              "TargetProId              0.074845\n",
              "dtype: float64"
            ]
          },
          "metadata": {
            "tags": []
          },
          "execution_count": 38
        }
      ]
    },
    {
      "cell_type": "markdown",
      "metadata": {
        "id": "BTmSPjc_Gyb5"
      },
      "source": [
        "<font color='red'>**Since there are a few number of missing values in the Price feature, we are going to fill the missing values with the average of that feature.**<font>"
      ]
    },
    {
      "cell_type": "markdown",
      "metadata": {
        "id": "tyMnFA_5_sDN"
      },
      "source": [
        "## Drop Transformer"
      ]
    },
    {
      "cell_type": "code",
      "metadata": {
        "id": "Fz1k_i-0_wUu"
      },
      "source": [
        "import pandas as pd\n",
        "from sklearn.base import BaseEstimator, TransformerMixin\n",
        "\n",
        "\n",
        "class DropSomeColumns(BaseEstimator, TransformerMixin):\n",
        "  def __init__(self, cols):\n",
        "    if not isinstance(cols, list):\n",
        "      self.cols = [cols]\n",
        "    else:\n",
        "      self.cols = cols\n",
        "\n",
        "  def fit(self, X, y=None):\n",
        "    return self\n",
        "\n",
        "  def transform(self, X):\n",
        "    c = np.delete(np.arange(X.shape[1]), self.cols)\n",
        "    X = X.copy()\n",
        "    return X[:,c]"
      ],
      "execution_count": null,
      "outputs": []
    },
    {
      "cell_type": "markdown",
      "metadata": {
        "id": "w405RL4LWsZv"
      },
      "source": [
        "# **Pipeline**"
      ]
    },
    {
      "cell_type": "code",
      "metadata": {
        "id": "YC77mnFwbyhB"
      },
      "source": [
        "# droped colums : ProId_ix, CustId_ix, ServiceId_ix, CategoryId, ZoneId_ix, CustCreationTimestamp_ix, TaskCreationTimestamp_ix, TargetProId_ix, TaskState\n",
        "droped_columns = [0, 2, 7, 8, 9, 3, 5, 11, 10]\n",
        "\n",
        "p = Pipeline([\n",
        "              ('targeted_pro', TargetedProTransformer()),\n",
        "              ('fraudlent', FraudulentTransform()),\n",
        "              ('timestamp', TimeStampTransformer()),\n",
        "              ('drop_some_columns', DropSomeColumns(droped_columns)),\n",
        "              ('imputer', SimpleImputer(strategy=\"mean\")),\n",
        "              ('std_scaler', StandardScaler())\n",
        "              ])"
      ],
      "execution_count": null,
      "outputs": []
    },
    {
      "cell_type": "code",
      "metadata": {
        "id": "eWflclCGrCx8"
      },
      "source": [
        "encoder = OneHotEncoder()\n",
        "X_train_1hot = encoder.fit_transform(X_train[['CategoryId']])\n",
        "X_train_cleaned_without_1hot = p.fit_transform(X_train.values, y_train)\n",
        "X_train_cleaned = np.concatenate((X_train_cleaned_without_1hot, X_train_1hot.toarray()), axis=1)"
      ],
      "execution_count": null,
      "outputs": []
    },
    {
      "cell_type": "code",
      "metadata": {
        "id": "CTlYpWVL4Yz3"
      },
      "source": [
        "X_test_1hot = encoder.transform(X_test[['CategoryId']])\n",
        "X_test_cleaned_without_1hot = p.transform(X_test.values)\n",
        "X_test_cleaned = np.concatenate((X_test_cleaned_without_1hot, X_test_1hot.toarray()), axis=1)"
      ],
      "execution_count": null,
      "outputs": []
    },
    {
      "cell_type": "markdown",
      "metadata": {
        "id": "Tl9In7gdlNZd"
      },
      "source": [
        "# **Handle Imbalanced Dataset**"
      ]
    },
    {
      "cell_type": "code",
      "metadata": {
        "colab": {
          "base_uri": "https://localhost:8080/"
        },
        "id": "yEAxjtmRs0ZD",
        "outputId": "14ccb623-adce-40b4-e337-12eb7498e8ca"
      },
      "source": [
        "print(Counter(y_train))"
      ],
      "execution_count": null,
      "outputs": [
        {
          "output_type": "stream",
          "text": [
            "Counter({0: 19827, 1: 1299})\n"
          ],
          "name": "stdout"
        }
      ]
    },
    {
      "cell_type": "markdown",
      "metadata": {
        "id": "tR_hcMdgRnc6"
      },
      "source": [
        "<font color='red'>**I tried to fix the imbalance using a mixed sampling. The minority labels are upsampled to a specific percentage and the majority labels are undersampled.**<font>"
      ]
    },
    {
      "cell_type": "code",
      "metadata": {
        "id": "_28acgzyq4i-"
      },
      "source": [
        "over = SMOTE(sampling_strategy=0.1, random_state=58)\n",
        "under = RandomUnderSampler(sampling_strategy=0.2, random_state=58)\n",
        "\n",
        "pipeline = imPipeline(steps = [('o', over), ('u', under)])"
      ],
      "execution_count": null,
      "outputs": []
    },
    {
      "cell_type": "code",
      "metadata": {
        "id": "nBKP4XN2rnUD",
        "colab": {
          "base_uri": "https://localhost:8080/"
        },
        "outputId": "792bf486-6b0e-48af-97d7-4cd707b98c27"
      },
      "source": [
        "X_train_cleaned, y_train = pipeline.fit_resample(X_train_cleaned, y_train)"
      ],
      "execution_count": null,
      "outputs": [
        {
          "output_type": "stream",
          "text": [
            "/usr/local/lib/python3.7/dist-packages/sklearn/utils/deprecation.py:87: FutureWarning: Function safe_indexing is deprecated; safe_indexing is deprecated in version 0.22 and will be removed in version 0.24.\n",
            "  warnings.warn(msg, category=FutureWarning)\n",
            "/usr/local/lib/python3.7/dist-packages/sklearn/utils/deprecation.py:87: FutureWarning: Function safe_indexing is deprecated; safe_indexing is deprecated in version 0.22 and will be removed in version 0.24.\n",
            "  warnings.warn(msg, category=FutureWarning)\n"
          ],
          "name": "stderr"
        }
      ]
    },
    {
      "cell_type": "code",
      "metadata": {
        "colab": {
          "base_uri": "https://localhost:8080/"
        },
        "id": "Oi_E-NMemUC4",
        "outputId": "963b30ff-3ef1-43bc-c6d7-5d21d50d6bd8"
      },
      "source": [
        "print(Counter(y_train))"
      ],
      "execution_count": null,
      "outputs": [
        {
          "output_type": "stream",
          "text": [
            "Counter({0: 9910, 1: 1982})\n"
          ],
          "name": "stdout"
        }
      ]
    },
    {
      "cell_type": "markdown",
      "metadata": {
        "id": "CjQQBV_m7cN2"
      },
      "source": [
        "# **Model**"
      ]
    },
    {
      "cell_type": "markdown",
      "metadata": {
        "id": "4IhKP-bLTBKC"
      },
      "source": [
        "## Evaluate Model"
      ]
    },
    {
      "cell_type": "markdown",
      "metadata": {
        "id": "D7x6UOYzSUCk"
      },
      "source": [
        "<font color='red'>**Since the accuracy is generally biased, I used recall and F1-score for evaluation metrics. Since we do not want to miss out any fraudulent orders, the RECALL is more important that the precision to us.**<font>"
      ]
    },
    {
      "cell_type": "code",
      "metadata": {
        "id": "P59Y0WbwS34K"
      },
      "source": [
        "def eval(y_pred, y_test):\n",
        "  recall = recall_score(y_test, y_pred, average='binary')\n",
        "  print('Recall: %.3f' % recall)\n",
        "  f1 = f1_score(y_test, y_pred, average='binary')\n",
        "  print('F1: %.3f' % f1)\n",
        "  cm = confusion_matrix(y_test, y_pred)\n",
        "  print(cm)\n",
        "  acc = accuracy_score(y_test, y_pred)\n",
        "  print('Accuracy: %.3f' % acc)"
      ],
      "execution_count": null,
      "outputs": []
    },
    {
      "cell_type": "code",
      "metadata": {
        "id": "7t38EkOULq47"
      },
      "source": [
        "def plot_precision_recall_vs_threshold(precisions, recalls, thresholds): \n",
        "  plt.plot(thresholds, precisions[:-1], \"b--\", label=\"Precision\") \n",
        "  plt.plot(thresholds, recalls[:-1], \"g-\", label=\"Recall\")"
      ],
      "execution_count": null,
      "outputs": []
    },
    {
      "cell_type": "markdown",
      "metadata": {
        "id": "1WEcibp9UkAQ"
      },
      "source": [
        "## Training Model"
      ]
    },
    {
      "cell_type": "markdown",
      "metadata": {
        "id": "qs-XnF7OaQRH"
      },
      "source": [
        "### RandomForestClassifier"
      ]
    },
    {
      "cell_type": "code",
      "metadata": {
        "id": "d3lePtIWE-eB"
      },
      "source": [
        "from sklearn.ensemble import RandomForestClassifier\n",
        "\n",
        "clf = RandomForestClassifier()\n",
        "clf.fit(X_train_cleaned, y_train)\n",
        "y_pred_proba = clf.predict_proba(X_test_cleaned)"
      ],
      "execution_count": null,
      "outputs": []
    },
    {
      "cell_type": "code",
      "metadata": {
        "colab": {
          "base_uri": "https://localhost:8080/"
        },
        "id": "I_y_OZy6Z41v",
        "outputId": "68845674-155a-4f36-f236-2de6504a8304"
      },
      "source": [
        "y_pred = (y_pred_proba[:,1] >= 0.3).astype('int')\n",
        "eval(y_pred, y_test)"
      ],
      "execution_count": null,
      "outputs": [
        {
          "output_type": "stream",
          "text": [
            "Recall: 0.485\n",
            "F1: 0.323\n",
            "[[3121  367]\n",
            " [ 124  117]]\n",
            "Accuracy: 0.868\n"
          ],
          "name": "stdout"
        }
      ]
    },
    {
      "cell_type": "code",
      "metadata": {
        "colab": {
          "base_uri": "https://localhost:8080/"
        },
        "id": "cgUxVll0Z1_8",
        "outputId": "c3b70222-73a1-4746-aba4-06d7bd1ee0a2"
      },
      "source": [
        "roc_auc_score(y_test, y_pred)"
      ],
      "execution_count": null,
      "outputs": [
        {
          "output_type": "execute_result",
          "data": {
            "text/plain": [
              "0.6901296442574898"
            ]
          },
          "metadata": {
            "tags": []
          },
          "execution_count": 51
        }
      ]
    },
    {
      "cell_type": "markdown",
      "metadata": {
        "id": "CuH9qEGfaUdt"
      },
      "source": [
        "### AdaBoostClassifier"
      ]
    },
    {
      "cell_type": "code",
      "metadata": {
        "colab": {
          "base_uri": "https://localhost:8080/"
        },
        "id": "ANRRLfUzOFW1",
        "outputId": "4be74369-c644-4c62-d1fe-ffc1b4c3c1a0"
      },
      "source": [
        "from sklearn.ensemble import AdaBoostClassifier\n",
        "from sklearn.tree import DecisionTreeClassifier\n",
        "\n",
        "ada_clf = AdaBoostClassifier(\n",
        "    DecisionTreeClassifier(max_depth=1), \n",
        "    n_estimators=200,\n",
        "    algorithm=\"SAMME.R\",\n",
        "    learning_rate=0.5,\n",
        "    )\n",
        "ada_clf.fit(X_train_cleaned, y_train)"
      ],
      "execution_count": null,
      "outputs": [
        {
          "output_type": "execute_result",
          "data": {
            "text/plain": [
              "AdaBoostClassifier(algorithm='SAMME.R',\n",
              "                   base_estimator=DecisionTreeClassifier(ccp_alpha=0.0,\n",
              "                                                         class_weight=None,\n",
              "                                                         criterion='gini',\n",
              "                                                         max_depth=1,\n",
              "                                                         max_features=None,\n",
              "                                                         max_leaf_nodes=None,\n",
              "                                                         min_impurity_decrease=0.0,\n",
              "                                                         min_impurity_split=None,\n",
              "                                                         min_samples_leaf=1,\n",
              "                                                         min_samples_split=2,\n",
              "                                                         min_weight_fraction_leaf=0.0,\n",
              "                                                         presort='deprecated',\n",
              "                                                         random_state=None,\n",
              "                                                         splitter='best'),\n",
              "                   learning_rate=0.5, n_estimators=200, random_state=None)"
            ]
          },
          "metadata": {
            "tags": []
          },
          "execution_count": 52
        }
      ]
    },
    {
      "cell_type": "code",
      "metadata": {
        "colab": {
          "base_uri": "https://localhost:8080/"
        },
        "id": "N_lgg1XYZ8KT",
        "outputId": "8b7adffd-a5da-4570-86d9-515e5de69101"
      },
      "source": [
        "y_pred = (y_pred_proba[:,1] >= 0.5).astype('int')\n",
        "eval(y_pred, y_test)"
      ],
      "execution_count": null,
      "outputs": [
        {
          "output_type": "stream",
          "text": [
            "Recall: 0.307\n",
            "F1: 0.333\n",
            "[[3358  130]\n",
            " [ 167   74]]\n",
            "Accuracy: 0.920\n"
          ],
          "name": "stdout"
        }
      ]
    },
    {
      "cell_type": "code",
      "metadata": {
        "colab": {
          "base_uri": "https://localhost:8080/"
        },
        "id": "OF2wka1qZ-oL",
        "outputId": "9148395d-392f-4c1c-d842-8046e07e122e"
      },
      "source": [
        "roc_auc_score(y_test, y_pred)"
      ],
      "execution_count": null,
      "outputs": [
        {
          "output_type": "execute_result",
          "data": {
            "text/plain": [
              "0.6348916498534394"
            ]
          },
          "metadata": {
            "tags": []
          },
          "execution_count": 54
        }
      ]
    },
    {
      "cell_type": "markdown",
      "metadata": {
        "id": "7FVY9ED5aYQa"
      },
      "source": [
        "### SVC"
      ]
    },
    {
      "cell_type": "code",
      "metadata": {
        "id": "3OJb46RtuF_S"
      },
      "source": [
        "from sklearn.svm import SVC\n",
        "svclassifier = SVC(kernel='sigmoid')\n",
        "svclassifier.fit(X_train_cleaned, y_train)\n",
        "\n",
        "y_pred = svclassifier.predict(X_test_cleaned)"
      ],
      "execution_count": null,
      "outputs": []
    },
    {
      "cell_type": "code",
      "metadata": {
        "colab": {
          "base_uri": "https://localhost:8080/"
        },
        "id": "lTpb-6VtaDvq",
        "outputId": "2ff25acb-2e40-44c5-9121-101f639d6852"
      },
      "source": [
        "roc_auc_score(y_test, y_pred)"
      ],
      "execution_count": null,
      "outputs": [
        {
          "output_type": "execute_result",
          "data": {
            "text/plain": [
              "0.5457983983021814"
            ]
          },
          "metadata": {
            "tags": []
          },
          "execution_count": 56
        }
      ]
    },
    {
      "cell_type": "code",
      "metadata": {
        "colab": {
          "base_uri": "https://localhost:8080/"
        },
        "id": "emj8UZs3aK84",
        "outputId": "7e840660-8afb-4faa-ff45-22bef0ccb364"
      },
      "source": [
        "eval(y_pred, y_test)"
      ],
      "execution_count": null,
      "outputs": [
        {
          "output_type": "stream",
          "text": [
            "Recall: 0.232\n",
            "F1: 0.142\n",
            "[[2997  491]\n",
            " [ 185   56]]\n",
            "Accuracy: 0.819\n"
          ],
          "name": "stdout"
        }
      ]
    },
    {
      "cell_type": "markdown",
      "metadata": {
        "id": "d1_gTlQ1afFS"
      },
      "source": [
        "### XGBClassifier"
      ]
    },
    {
      "cell_type": "code",
      "metadata": {
        "id": "DunJgunb1up3"
      },
      "source": [
        "from xgboost import XGBClassifier\n",
        "xgb_reg = XGBClassifier(\n",
        "    n_estimators=400,\n",
        "    learning_rate=0.1,\n",
        "    )\n",
        "xgb_reg.fit(X_train_cleaned, y_train, eval_metric=recall_score)\n",
        "\n",
        "y_pred_proba = xgb_reg.predict_proba(X_test_cleaned)"
      ],
      "execution_count": null,
      "outputs": []
    },
    {
      "cell_type": "code",
      "metadata": {
        "colab": {
          "base_uri": "https://localhost:8080/",
          "height": 265
        },
        "id": "ORtv7DM8NoX7",
        "outputId": "f9c6fc46-a79a-4230-cf96-75c7e86ba0fe"
      },
      "source": [
        "precisions, recalls, thresholds = precision_recall_curve(y_test, y_pred_proba[:,1])\n",
        "plot_precision_recall_vs_threshold(precisions, recalls, thresholds)\n",
        "plt.show()"
      ],
      "execution_count": null,
      "outputs": [
        {
          "output_type": "display_data",
          "data": {
            "image/png": "[encoded data removed]",
            "text/plain": [
              "<Figure size 432x288 with 1 Axes>"
            ]
          },
          "metadata": {
            "tags": [],
            "needs_background": "light"
          }
        }
      ]
    },
    {
      "cell_type": "code",
      "metadata": {
        "colab": {
          "base_uri": "https://localhost:8080/"
        },
        "id": "pgGTDW3GpBqo",
        "outputId": "35627ed3-4b33-4678-9fc8-9c3cc91c09fa"
      },
      "source": [
        "y_pred = (y_pred_proba[:,1] >= 0.23).astype('int')\n",
        "eval(y_pred, y_test)"
      ],
      "execution_count": null,
      "outputs": [
        {
          "output_type": "stream",
          "text": [
            "Recall: 0.531\n",
            "F1: 0.326\n",
            "[[3072  416]\n",
            " [ 113  128]]\n",
            "Accuracy: 0.858\n"
          ],
          "name": "stdout"
        }
      ]
    },
    {
      "cell_type": "code",
      "metadata": {
        "colab": {
          "base_uri": "https://localhost:8080/"
        },
        "id": "wykEXtOTOhSe",
        "outputId": "c34366bc-3454-4e8e-b60b-db0165bfcb9c"
      },
      "source": [
        "roc_auc_score(y_test, y_pred)"
      ],
      "execution_count": null,
      "outputs": [
        {
          "output_type": "execute_result",
          "data": {
            "text/plain": [
              "0.705927138452168"
            ]
          },
          "metadata": {
            "tags": []
          },
          "execution_count": 61
        }
      ]
    },
    {
      "cell_type": "markdown",
      "metadata": {
        "id": "iY3lz71w81pI"
      },
      "source": [
        "## Grid Search"
      ]
    },
    {
      "cell_type": "markdown",
      "metadata": {
        "id": "e2AS_5AxWGzO"
      },
      "source": [
        "<font color='red'>**The best model was \"XGBoost Classifier\". Next, we will try to find the best parameters for this model.**<font>"
      ]
    },
    {
      "cell_type": "code",
      "metadata": {
        "id": "jd_LrimyfAiU",
        "colab": {
          "base_uri": "https://localhost:8080/"
        },
        "outputId": "1a119dfd-2b9f-40d9-f2e5-45f807abdfe5"
      },
      "source": [
        "param_grid = [\n",
        "        {'n_estimators': [50, 100, 600], 'max_features': [2, 4, 8], 'bootstrap': [False]},\n",
        "]\n",
        "\n",
        "xgb_reg = XGBClassifier()\n",
        "grid_search = GridSearchCV(xgb_reg,\n",
        "                           param_grid,\n",
        "                           cv=5,\n",
        "                           scoring='recall',\n",
        "                           return_train_score=False)\n",
        "\n",
        "grid_search.fit(X_train_cleaned, y_train)"
      ],
      "execution_count": null,
      "outputs": [
        {
          "output_type": "execute_result",
          "data": {
            "text/plain": [
              "GridSearchCV(cv=5, error_score=nan,\n",
              "             estimator=XGBClassifier(base_score=0.5, booster='gbtree',\n",
              "                                     colsample_bylevel=1, colsample_bynode=1,\n",
              "                                     colsample_bytree=1, gamma=0,\n",
              "                                     learning_rate=0.1, max_delta_step=0,\n",
              "                                     max_depth=3, min_child_weight=1,\n",
              "                                     missing=None, n_estimators=100, n_jobs=1,\n",
              "                                     nthread=None, objective='binary:logistic',\n",
              "                                     random_state=0, reg_alpha=0, reg_lambda=1,\n",
              "                                     scale_pos_weight=1, seed=None, silent=None,\n",
              "                                     subsample=1, verbosity=1),\n",
              "             iid='deprecated', n_jobs=None,\n",
              "             param_grid=[{'bootstrap': [False], 'max_features': [2, 4, 8],\n",
              "                          'n_estimators': [50, 100, 600]}],\n",
              "             pre_dispatch='2*n_jobs', refit=True, return_train_score=False,\n",
              "             scoring='recall', verbose=0)"
            ]
          },
          "metadata": {
            "tags": []
          },
          "execution_count": 62
        }
      ]
    },
    {
      "cell_type": "code",
      "metadata": {
        "colab": {
          "base_uri": "https://localhost:8080/"
        },
        "id": "dmFVsH155qE5",
        "outputId": "38e5c695-9446-43ce-96c9-4c57148cd107"
      },
      "source": [
        "grid_search.best_params_"
      ],
      "execution_count": null,
      "outputs": [
        {
          "output_type": "execute_result",
          "data": {
            "text/plain": [
              "{'bootstrap': False, 'max_features': 2, 'n_estimators': 600}"
            ]
          },
          "metadata": {
            "tags": []
          },
          "execution_count": 63
        }
      ]
    },
    {
      "cell_type": "markdown",
      "metadata": {
        "id": "9snZigts-Iuu"
      },
      "source": [
        "## Final Model"
      ]
    },
    {
      "cell_type": "markdown",
      "metadata": {
        "id": "Ua4zuCXXWyUv"
      },
      "source": [
        "<font color='red'>**All in all, in this project, I tried to delete/add some features logically. After some change to the dataset, I fixed the imbalance problem using a mixture of sampling, and then after using a bunch of different models, \"XGBoost\" was the best one. Then I tried different hyperparameters, and after finding the best ones, these are the final and final results.**<font>"
      ]
    },
    {
      "cell_type": "code",
      "metadata": {
        "id": "IaTverSX5XVW"
      },
      "source": [
        "final_model = XGBClassifier(\n",
        "    n_estimators=600,\n",
        "    learning_rate=0.1,\n",
        "    max_features=2,\n",
        "    )\n",
        "final_model.fit(X_train_cleaned, y_train, eval_metric=recall_score)\n",
        "\n",
        "y_pred_proba = final_model.predict_proba(X_test_cleaned)\n",
        "y_pred = (y_pred_proba[:,1] >= 0.19).astype('int')"
      ],
      "execution_count": null,
      "outputs": []
    },
    {
      "cell_type": "code",
      "metadata": {
        "id": "FQlD4nU0uQD_",
        "colab": {
          "base_uri": "https://localhost:8080/"
        },
        "outputId": "88025382-60be-4577-fd7f-9536161827e6"
      },
      "source": [
        "eval(y_pred, y_test)"
      ],
      "execution_count": null,
      "outputs": [
        {
          "output_type": "stream",
          "text": [
            "Recall: 0.602\n",
            "F1: 0.298\n",
            "[[2900  588]\n",
            " [  96  145]]\n",
            "Accuracy: 0.817\n"
          ],
          "name": "stdout"
        }
      ]
    },
    {
      "cell_type": "code",
      "metadata": {
        "id": "oi0QI5A5uQ4I"
      },
      "source": [
        ""
      ],
      "execution_count": null,
      "outputs": []
    }
  ]
}